{
 "cells": [
  {
   "cell_type": "code",
   "execution_count": 117,
   "id": "f050d098",
   "metadata": {},
   "outputs": [],
   "source": [
    "import pandas as pd\n",
    "import numpy as np"
   ]
  },
  {
   "cell_type": "code",
   "execution_count": 118,
   "id": "a9772859",
   "metadata": {},
   "outputs": [],
   "source": [
    "dataset = pd.read_csv ('ramen-ratings.csv', encoding =\"utf8\")\n",
    "dataset = dataset.sample(frac=1, random_state=10)"
   ]
  },
  {
   "cell_type": "code",
   "execution_count": 119,
   "id": "aadd9767",
   "metadata": {
    "scrolled": true
   },
   "outputs": [
    {
     "data": {
      "text/html": [
       "<div>\n",
       "<style scoped>\n",
       "    .dataframe tbody tr th:only-of-type {\n",
       "        vertical-align: middle;\n",
       "    }\n",
       "\n",
       "    .dataframe tbody tr th {\n",
       "        vertical-align: top;\n",
       "    }\n",
       "\n",
       "    .dataframe thead th {\n",
       "        text-align: right;\n",
       "    }\n",
       "</style>\n",
       "<table border=\"1\" class=\"dataframe\">\n",
       "  <thead>\n",
       "    <tr style=\"text-align: right;\">\n",
       "      <th></th>\n",
       "      <th>Review #</th>\n",
       "      <th>Brand</th>\n",
       "      <th>Variety</th>\n",
       "      <th>Style</th>\n",
       "      <th>Country</th>\n",
       "      <th>Stars</th>\n",
       "      <th>Top Ten</th>\n",
       "    </tr>\n",
       "  </thead>\n",
       "  <tbody>\n",
       "    <tr>\n",
       "      <th>2530</th>\n",
       "      <td>50</td>\n",
       "      <td>Indomie</td>\n",
       "      <td>Mi Goreng</td>\n",
       "      <td>Pack</td>\n",
       "      <td>Indonesia</td>\n",
       "      <td>5.00</td>\n",
       "      <td>NaN</td>\n",
       "    </tr>\n",
       "    <tr>\n",
       "      <th>920</th>\n",
       "      <td>1660</td>\n",
       "      <td>Sau Tao</td>\n",
       "      <td>Ho Fan Wonton Soup Flavored</td>\n",
       "      <td>Pack</td>\n",
       "      <td>Hong Kong</td>\n",
       "      <td>3.00</td>\n",
       "      <td>NaN</td>\n",
       "    </tr>\n",
       "    <tr>\n",
       "      <th>2035</th>\n",
       "      <td>545</td>\n",
       "      <td>Golden Wheat</td>\n",
       "      <td>South Korean Style Spicy Beef</td>\n",
       "      <td>Pack</td>\n",
       "      <td>China</td>\n",
       "      <td>3.50</td>\n",
       "      <td>NaN</td>\n",
       "    </tr>\n",
       "    <tr>\n",
       "      <th>1797</th>\n",
       "      <td>783</td>\n",
       "      <td>Nissin</td>\n",
       "      <td>Cup Noodles Salsa Picante Chicken</td>\n",
       "      <td>Cup</td>\n",
       "      <td>USA</td>\n",
       "      <td>3.00</td>\n",
       "      <td>NaN</td>\n",
       "    </tr>\n",
       "    <tr>\n",
       "      <th>930</th>\n",
       "      <td>1650</td>\n",
       "      <td>Ottogi</td>\n",
       "      <td>Sesame Flavor Ramen Korean Style Instant Noodle</td>\n",
       "      <td>Pack</td>\n",
       "      <td>South Korea</td>\n",
       "      <td>4.25</td>\n",
       "      <td>NaN</td>\n",
       "    </tr>\n",
       "  </tbody>\n",
       "</table>\n",
       "</div>"
      ],
      "text/plain": [
       "      Review #         Brand                                          Variety  \\\n",
       "2530        50       Indomie                                        Mi Goreng   \n",
       "920       1660       Sau Tao                      Ho Fan Wonton Soup Flavored   \n",
       "2035       545  Golden Wheat                    South Korean Style Spicy Beef   \n",
       "1797       783        Nissin                Cup Noodles Salsa Picante Chicken   \n",
       "930       1650        Ottogi  Sesame Flavor Ramen Korean Style Instant Noodle   \n",
       "\n",
       "     Style      Country  Stars Top Ten  \n",
       "2530  Pack    Indonesia   5.00     NaN  \n",
       "920   Pack    Hong Kong   3.00     NaN  \n",
       "2035  Pack        China   3.50     NaN  \n",
       "1797   Cup          USA   3.00     NaN  \n",
       "930   Pack  South Korea   4.25     NaN  "
      ]
     },
     "execution_count": 119,
     "metadata": {},
     "output_type": "execute_result"
    }
   ],
   "source": [
    "dataset.head()"
   ]
  },
  {
   "cell_type": "code",
   "execution_count": 120,
   "id": "4cd934fb",
   "metadata": {},
   "outputs": [
    {
     "data": {
      "text/plain": [
       "array([5.   , 3.   , 3.5  , 4.25 , 4.   , 2.25 , 4.5  , 3.25 , 0.   ,\n",
       "       1.75 , 3.75 , 4.3  , 2.75 , 4.75 , 1.5  , 0.25 , 0.5  , 1.   ,\n",
       "       4.125, 2.   , 2.5  , 3.2  , 0.1  , 0.9  , 2.9  , 2.125, 3.3  ,\n",
       "       3.7  , 3.125, 1.1  , 0.75 , 3.6  , 1.8  , 2.1  , 1.25 , 2.85 ,\n",
       "       2.8  , 2.3  , 3.1  , 3.8  , 3.65 , 3.4  ])"
      ]
     },
     "execution_count": 120,
     "metadata": {},
     "output_type": "execute_result"
    }
   ],
   "source": [
    "dataset.Stars.unique()"
   ]
  },
  {
   "cell_type": "code",
   "execution_count": 121,
   "id": "1f721f34",
   "metadata": {},
   "outputs": [
    {
     "name": "stdout",
     "output_type": "stream",
     "text": [
      "<class 'pandas.core.frame.DataFrame'>\n",
      "Index: 2580 entries, 2530 to 1289\n",
      "Data columns (total 7 columns):\n",
      " #   Column    Non-Null Count  Dtype  \n",
      "---  ------    --------------  -----  \n",
      " 0   Review #  2580 non-null   int64  \n",
      " 1   Brand     2580 non-null   object \n",
      " 2   Variety   2580 non-null   object \n",
      " 3   Style     2578 non-null   object \n",
      " 4   Country   2580 non-null   object \n",
      " 5   Stars     2580 non-null   float64\n",
      " 6   Top Ten   41 non-null     object \n",
      "dtypes: float64(1), int64(1), object(5)\n",
      "memory usage: 161.2+ KB\n"
     ]
    }
   ],
   "source": [
    "dataset.info()"
   ]
  },
  {
   "cell_type": "code",
   "execution_count": 122,
   "id": "6a006e3c",
   "metadata": {},
   "outputs": [],
   "source": [
    "# Remove any 'neutral' ratings equal to 3\n",
    "dataset = dataset[dataset['Stars'] != 3.000]\n",
    "\n",
    "# Encode 4s and 5s as 1 (rated positively)\n",
    "# Encode 1s and 2s as 0 (rated poorly)\n",
    "dataset['Positively Rated'] = np.where(dataset['Stars'] > 3.000, 1, 0)"
   ]
  },
  {
   "cell_type": "code",
   "execution_count": 123,
   "id": "f34ee555",
   "metadata": {},
   "outputs": [
    {
     "data": {
      "text/plain": [
       "array([1, 0])"
      ]
     },
     "execution_count": 123,
     "metadata": {},
     "output_type": "execute_result"
    }
   ],
   "source": [
    "dataset['Positively Rated'].unique()"
   ]
  },
  {
   "cell_type": "code",
   "execution_count": 124,
   "id": "58a2e385",
   "metadata": {},
   "outputs": [
    {
     "name": "stdout",
     "output_type": "stream",
     "text": [
      "<class 'pandas.core.frame.DataFrame'>\n",
      "Index: 2404 entries, 2530 to 1289\n",
      "Data columns (total 8 columns):\n",
      " #   Column            Non-Null Count  Dtype  \n",
      "---  ------            --------------  -----  \n",
      " 0   Review #          2404 non-null   int64  \n",
      " 1   Brand             2404 non-null   object \n",
      " 2   Variety           2404 non-null   object \n",
      " 3   Style             2403 non-null   object \n",
      " 4   Country           2404 non-null   object \n",
      " 5   Stars             2404 non-null   float64\n",
      " 6   Top Ten           41 non-null     object \n",
      " 7   Positively Rated  2404 non-null   int64  \n",
      "dtypes: float64(1), int64(2), object(5)\n",
      "memory usage: 169.0+ KB\n"
     ]
    }
   ],
   "source": [
    "dataset.info()"
   ]
  },
  {
   "cell_type": "code",
   "execution_count": 125,
   "id": "dfe4f725",
   "metadata": {},
   "outputs": [],
   "source": [
    "from sklearn.model_selection import train_test_split\n",
    "\n",
    "# Split data into train and test subsets\n",
    "X_train, X_test, y_train, y_test = train_test_split(dataset['Variety'], \n",
    "                                                    dataset['Positively Rated'], \n",
    "                                                    random_state=0)"
   ]
  },
  {
   "cell_type": "code",
   "execution_count": 126,
   "id": "f11b6bf8",
   "metadata": {},
   "outputs": [
    {
     "data": {
      "text/plain": [
       "(1803,)"
      ]
     },
     "execution_count": 126,
     "metadata": {},
     "output_type": "execute_result"
    }
   ],
   "source": [
    "X_train.shape"
   ]
  },
  {
   "cell_type": "code",
   "execution_count": 127,
   "id": "4f616d9c",
   "metadata": {},
   "outputs": [
    {
     "data": {
      "text/plain": [
       "(601,)"
      ]
     },
     "execution_count": 127,
     "metadata": {},
     "output_type": "execute_result"
    }
   ],
   "source": [
    "X_test.shape"
   ]
  },
  {
   "cell_type": "markdown",
   "id": "33347d5c",
   "metadata": {},
   "source": [
    "# Model Selection in scikit-learn"
   ]
  },
  {
   "cell_type": "code",
   "execution_count": 128,
   "id": "a1d0ad79",
   "metadata": {},
   "outputs": [],
   "source": [
    "from sklearn.model_selection import train_test_split\n",
    "\n",
    "# Split data into train and test subsets\n",
    "X_train, X_test, y_train, y_test = train_test_split(dataset['Variety'], \n",
    "                                                    dataset['Positively Rated'], \n",
    "                                                    random_state=0)"
   ]
  },
  {
   "cell_type": "code",
   "execution_count": 129,
   "id": "a3643fa2",
   "metadata": {},
   "outputs": [
    {
     "name": "stdout",
     "output_type": "stream",
     "text": [
      "Super Bowl Artificial Stewed Pork Chop\n"
     ]
    }
   ],
   "source": [
    "print( X_train.iloc[10])  "
   ]
  },
  {
   "cell_type": "code",
   "execution_count": 130,
   "id": "33c0e995",
   "metadata": {},
   "outputs": [
    {
     "data": {
      "text/plain": [
       "(1803,)"
      ]
     },
     "execution_count": 130,
     "metadata": {},
     "output_type": "execute_result"
    }
   ],
   "source": [
    "X_train.shape"
   ]
  },
  {
   "cell_type": "code",
   "execution_count": 131,
   "id": "cab22503",
   "metadata": {},
   "outputs": [
    {
     "data": {
      "text/plain": [
       "(601,)"
      ]
     },
     "execution_count": 131,
     "metadata": {},
     "output_type": "execute_result"
    }
   ],
   "source": [
    "X_test.shape"
   ]
  },
  {
   "cell_type": "markdown",
   "id": "d23ad1d2",
   "metadata": {},
   "source": [
    "# BOW"
   ]
  },
  {
   "cell_type": "code",
   "execution_count": 132,
   "id": "9e003c30",
   "metadata": {},
   "outputs": [],
   "source": [
    "from sklearn.feature_extraction.text import CountVectorizer #"
   ]
  },
  {
   "cell_type": "code",
   "execution_count": 133,
   "id": "3fae816b",
   "metadata": {},
   "outputs": [],
   "source": [
    "from sklearn.feature_extraction.text import CountVectorizer #\n",
    "\n",
    "docs = np.array([\n",
    "    'The ramen is delicious',\n",
    "    'The ramen is sweet',\n",
    "    'The ramen is spicy and the taste is good'])\n",
    "\n",
    "# Fit the CountVectorizer to the training data \n",
    "vect1=CountVectorizer().fit(docs)\n",
    "\n",
    "# transform the documents in the training data to a document-term matrix. #matrix format = numbers\n",
    "bag = vect1.transform(docs) "
   ]
  },
  {
   "cell_type": "code",
   "execution_count": 134,
   "id": "3330c4b0",
   "metadata": {},
   "outputs": [
    {
     "data": {
      "text/plain": [
       "{'the': 8,\n",
       " 'ramen': 4,\n",
       " 'is': 3,\n",
       " 'delicious': 1,\n",
       " 'sweet': 6,\n",
       " 'spicy': 5,\n",
       " 'and': 0,\n",
       " 'taste': 7,\n",
       " 'good': 2}"
      ]
     },
     "execution_count": 134,
     "metadata": {},
     "output_type": "execute_result"
    }
   ],
   "source": [
    "vect1.vocabulary_"
   ]
  },
  {
   "cell_type": "code",
   "execution_count": 135,
   "id": "05f0e360",
   "metadata": {},
   "outputs": [
    {
     "data": {
      "text/plain": [
       "array(['and', 'delicious', 'good', 'is', 'ramen', 'spicy', 'sweet',\n",
       "       'taste', 'the'], dtype=object)"
      ]
     },
     "execution_count": 135,
     "metadata": {},
     "output_type": "execute_result"
    }
   ],
   "source": [
    "vect1.get_feature_names_out() #get featuer etc will give you keyword"
   ]
  },
  {
   "cell_type": "code",
   "execution_count": 154,
   "id": "982392fa",
   "metadata": {},
   "outputs": [
    {
     "ename": "ValueError",
     "evalue": "Found input variables with inconsistent numbers of samples: [30, 1803]",
     "output_type": "error",
     "traceback": [
      "\u001b[0;31m---------------------------------------------------------------------------\u001b[0m",
      "\u001b[0;31mValueError\u001b[0m                                Traceback (most recent call last)",
      "Cell \u001b[0;32mIn[154], line 5\u001b[0m\n\u001b[1;32m      3\u001b[0m \u001b[38;5;66;03m# Train the model\u001b[39;00m\n\u001b[1;32m      4\u001b[0m model \u001b[38;5;241m=\u001b[39m LogisticRegression()\n\u001b[0;32m----> 5\u001b[0m model\u001b[38;5;241m.\u001b[39mfit(X_train_vectorized1, y_train)\n",
      "File \u001b[0;32m~/anaconda3/lib/python3.11/site-packages/sklearn/base.py:1151\u001b[0m, in \u001b[0;36m_fit_context.<locals>.decorator.<locals>.wrapper\u001b[0;34m(estimator, *args, **kwargs)\u001b[0m\n\u001b[1;32m   1144\u001b[0m     estimator\u001b[38;5;241m.\u001b[39m_validate_params()\n\u001b[1;32m   1146\u001b[0m \u001b[38;5;28;01mwith\u001b[39;00m config_context(\n\u001b[1;32m   1147\u001b[0m     skip_parameter_validation\u001b[38;5;241m=\u001b[39m(\n\u001b[1;32m   1148\u001b[0m         prefer_skip_nested_validation \u001b[38;5;129;01mor\u001b[39;00m global_skip_validation\n\u001b[1;32m   1149\u001b[0m     )\n\u001b[1;32m   1150\u001b[0m ):\n\u001b[0;32m-> 1151\u001b[0m     \u001b[38;5;28;01mreturn\u001b[39;00m fit_method(estimator, \u001b[38;5;241m*\u001b[39margs, \u001b[38;5;241m*\u001b[39m\u001b[38;5;241m*\u001b[39mkwargs)\n",
      "File \u001b[0;32m~/anaconda3/lib/python3.11/site-packages/sklearn/linear_model/_logistic.py:1207\u001b[0m, in \u001b[0;36mLogisticRegression.fit\u001b[0;34m(self, X, y, sample_weight)\u001b[0m\n\u001b[1;32m   1204\u001b[0m \u001b[38;5;28;01melse\u001b[39;00m:\n\u001b[1;32m   1205\u001b[0m     _dtype \u001b[38;5;241m=\u001b[39m [np\u001b[38;5;241m.\u001b[39mfloat64, np\u001b[38;5;241m.\u001b[39mfloat32]\n\u001b[0;32m-> 1207\u001b[0m X, y \u001b[38;5;241m=\u001b[39m \u001b[38;5;28mself\u001b[39m\u001b[38;5;241m.\u001b[39m_validate_data(\n\u001b[1;32m   1208\u001b[0m     X,\n\u001b[1;32m   1209\u001b[0m     y,\n\u001b[1;32m   1210\u001b[0m     accept_sparse\u001b[38;5;241m=\u001b[39m\u001b[38;5;124m\"\u001b[39m\u001b[38;5;124mcsr\u001b[39m\u001b[38;5;124m\"\u001b[39m,\n\u001b[1;32m   1211\u001b[0m     dtype\u001b[38;5;241m=\u001b[39m_dtype,\n\u001b[1;32m   1212\u001b[0m     order\u001b[38;5;241m=\u001b[39m\u001b[38;5;124m\"\u001b[39m\u001b[38;5;124mC\u001b[39m\u001b[38;5;124m\"\u001b[39m,\n\u001b[1;32m   1213\u001b[0m     accept_large_sparse\u001b[38;5;241m=\u001b[39msolver \u001b[38;5;129;01mnot\u001b[39;00m \u001b[38;5;129;01min\u001b[39;00m [\u001b[38;5;124m\"\u001b[39m\u001b[38;5;124mliblinear\u001b[39m\u001b[38;5;124m\"\u001b[39m, \u001b[38;5;124m\"\u001b[39m\u001b[38;5;124msag\u001b[39m\u001b[38;5;124m\"\u001b[39m, \u001b[38;5;124m\"\u001b[39m\u001b[38;5;124msaga\u001b[39m\u001b[38;5;124m\"\u001b[39m],\n\u001b[1;32m   1214\u001b[0m )\n\u001b[1;32m   1215\u001b[0m check_classification_targets(y)\n\u001b[1;32m   1216\u001b[0m \u001b[38;5;28mself\u001b[39m\u001b[38;5;241m.\u001b[39mclasses_ \u001b[38;5;241m=\u001b[39m np\u001b[38;5;241m.\u001b[39munique(y)\n",
      "File \u001b[0;32m~/anaconda3/lib/python3.11/site-packages/sklearn/base.py:621\u001b[0m, in \u001b[0;36mBaseEstimator._validate_data\u001b[0;34m(self, X, y, reset, validate_separately, cast_to_ndarray, **check_params)\u001b[0m\n\u001b[1;32m    619\u001b[0m         y \u001b[38;5;241m=\u001b[39m check_array(y, input_name\u001b[38;5;241m=\u001b[39m\u001b[38;5;124m\"\u001b[39m\u001b[38;5;124my\u001b[39m\u001b[38;5;124m\"\u001b[39m, \u001b[38;5;241m*\u001b[39m\u001b[38;5;241m*\u001b[39mcheck_y_params)\n\u001b[1;32m    620\u001b[0m     \u001b[38;5;28;01melse\u001b[39;00m:\n\u001b[0;32m--> 621\u001b[0m         X, y \u001b[38;5;241m=\u001b[39m check_X_y(X, y, \u001b[38;5;241m*\u001b[39m\u001b[38;5;241m*\u001b[39mcheck_params)\n\u001b[1;32m    622\u001b[0m     out \u001b[38;5;241m=\u001b[39m X, y\n\u001b[1;32m    624\u001b[0m \u001b[38;5;28;01mif\u001b[39;00m \u001b[38;5;129;01mnot\u001b[39;00m no_val_X \u001b[38;5;129;01mand\u001b[39;00m check_params\u001b[38;5;241m.\u001b[39mget(\u001b[38;5;124m\"\u001b[39m\u001b[38;5;124mensure_2d\u001b[39m\u001b[38;5;124m\"\u001b[39m, \u001b[38;5;28;01mTrue\u001b[39;00m):\n",
      "File \u001b[0;32m~/anaconda3/lib/python3.11/site-packages/sklearn/utils/validation.py:1165\u001b[0m, in \u001b[0;36mcheck_X_y\u001b[0;34m(X, y, accept_sparse, accept_large_sparse, dtype, order, copy, force_all_finite, ensure_2d, allow_nd, multi_output, ensure_min_samples, ensure_min_features, y_numeric, estimator)\u001b[0m\n\u001b[1;32m   1147\u001b[0m X \u001b[38;5;241m=\u001b[39m check_array(\n\u001b[1;32m   1148\u001b[0m     X,\n\u001b[1;32m   1149\u001b[0m     accept_sparse\u001b[38;5;241m=\u001b[39maccept_sparse,\n\u001b[0;32m   (...)\u001b[0m\n\u001b[1;32m   1160\u001b[0m     input_name\u001b[38;5;241m=\u001b[39m\u001b[38;5;124m\"\u001b[39m\u001b[38;5;124mX\u001b[39m\u001b[38;5;124m\"\u001b[39m,\n\u001b[1;32m   1161\u001b[0m )\n\u001b[1;32m   1163\u001b[0m y \u001b[38;5;241m=\u001b[39m _check_y(y, multi_output\u001b[38;5;241m=\u001b[39mmulti_output, y_numeric\u001b[38;5;241m=\u001b[39my_numeric, estimator\u001b[38;5;241m=\u001b[39mestimator)\n\u001b[0;32m-> 1165\u001b[0m check_consistent_length(X, y)\n\u001b[1;32m   1167\u001b[0m \u001b[38;5;28;01mreturn\u001b[39;00m X, y\n",
      "File \u001b[0;32m~/anaconda3/lib/python3.11/site-packages/sklearn/utils/validation.py:409\u001b[0m, in \u001b[0;36mcheck_consistent_length\u001b[0;34m(*arrays)\u001b[0m\n\u001b[1;32m    407\u001b[0m uniques \u001b[38;5;241m=\u001b[39m np\u001b[38;5;241m.\u001b[39munique(lengths)\n\u001b[1;32m    408\u001b[0m \u001b[38;5;28;01mif\u001b[39;00m \u001b[38;5;28mlen\u001b[39m(uniques) \u001b[38;5;241m>\u001b[39m \u001b[38;5;241m1\u001b[39m:\n\u001b[0;32m--> 409\u001b[0m     \u001b[38;5;28;01mraise\u001b[39;00m \u001b[38;5;167;01mValueError\u001b[39;00m(\n\u001b[1;32m    410\u001b[0m         \u001b[38;5;124m\"\u001b[39m\u001b[38;5;124mFound input variables with inconsistent numbers of samples: \u001b[39m\u001b[38;5;132;01m%r\u001b[39;00m\u001b[38;5;124m\"\u001b[39m\n\u001b[1;32m    411\u001b[0m         \u001b[38;5;241m%\u001b[39m [\u001b[38;5;28mint\u001b[39m(l) \u001b[38;5;28;01mfor\u001b[39;00m l \u001b[38;5;129;01min\u001b[39;00m lengths]\n\u001b[1;32m    412\u001b[0m     )\n",
      "\u001b[0;31mValueError\u001b[0m: Found input variables with inconsistent numbers of samples: [30, 1803]"
     ]
    }
   ],
   "source": [
    "from sklearn.linear_model import LogisticRegression\n",
    "\n",
    "# Train the model\n",
    "model = LogisticRegression()\n",
    "model.fit(X_train_vectorized1, y_train)\n",
    "\n",
    "#x_train\n",
    "#vectors (unique tokens)"
   ]
  },
  {
   "cell_type": "code",
   "execution_count": 155,
   "id": "989f027a",
   "metadata": {},
   "outputs": [
    {
     "ename": "NotFittedError",
     "evalue": "This LogisticRegression instance is not fitted yet. Call 'fit' with appropriate arguments before using this estimator.",
     "output_type": "error",
     "traceback": [
      "\u001b[0;31m---------------------------------------------------------------------------\u001b[0m",
      "\u001b[0;31mNotFittedError\u001b[0m                            Traceback (most recent call last)",
      "Cell \u001b[0;32mIn[155], line 4\u001b[0m\n\u001b[1;32m      1\u001b[0m \u001b[38;5;28;01mfrom\u001b[39;00m \u001b[38;5;21;01msklearn\u001b[39;00m\u001b[38;5;21;01m.\u001b[39;00m\u001b[38;5;21;01mmetrics\u001b[39;00m \u001b[38;5;28;01mimport\u001b[39;00m roc_auc_score\n\u001b[1;32m      3\u001b[0m \u001b[38;5;66;03m# Predict the transformed test documents\u001b[39;00m\n\u001b[0;32m----> 4\u001b[0m predictions \u001b[38;5;241m=\u001b[39m model\u001b[38;5;241m.\u001b[39mpredict(review1\u001b[38;5;241m.\u001b[39mtransform(X_test))\n\u001b[1;32m      5\u001b[0m y_proba \u001b[38;5;241m=\u001b[39m model\u001b[38;5;241m.\u001b[39mpredict_proba(review1\u001b[38;5;241m.\u001b[39mtransform(X_test))\n\u001b[1;32m      7\u001b[0m \u001b[38;5;28mprint\u001b[39m(\u001b[38;5;124m'\u001b[39m\u001b[38;5;124mAUC: \u001b[39m\u001b[38;5;124m'\u001b[39m, roc_auc_score(y_test, y_proba[:,\u001b[38;5;241m1\u001b[39m]))\n",
      "File \u001b[0;32m~/anaconda3/lib/python3.11/site-packages/sklearn/linear_model/_base.py:451\u001b[0m, in \u001b[0;36mLinearClassifierMixin.predict\u001b[0;34m(self, X)\u001b[0m\n\u001b[1;32m    437\u001b[0m \u001b[38;5;250m\u001b[39m\u001b[38;5;124;03m\"\"\"\u001b[39;00m\n\u001b[1;32m    438\u001b[0m \u001b[38;5;124;03mPredict class labels for samples in X.\u001b[39;00m\n\u001b[1;32m    439\u001b[0m \n\u001b[0;32m   (...)\u001b[0m\n\u001b[1;32m    448\u001b[0m \u001b[38;5;124;03m    Vector containing the class labels for each sample.\u001b[39;00m\n\u001b[1;32m    449\u001b[0m \u001b[38;5;124;03m\"\"\"\u001b[39;00m\n\u001b[1;32m    450\u001b[0m xp, _ \u001b[38;5;241m=\u001b[39m get_namespace(X)\n\u001b[0;32m--> 451\u001b[0m scores \u001b[38;5;241m=\u001b[39m \u001b[38;5;28mself\u001b[39m\u001b[38;5;241m.\u001b[39mdecision_function(X)\n\u001b[1;32m    452\u001b[0m \u001b[38;5;28;01mif\u001b[39;00m \u001b[38;5;28mlen\u001b[39m(scores\u001b[38;5;241m.\u001b[39mshape) \u001b[38;5;241m==\u001b[39m \u001b[38;5;241m1\u001b[39m:\n\u001b[1;32m    453\u001b[0m     indices \u001b[38;5;241m=\u001b[39m xp\u001b[38;5;241m.\u001b[39mastype(scores \u001b[38;5;241m>\u001b[39m \u001b[38;5;241m0\u001b[39m, \u001b[38;5;28mint\u001b[39m)\n",
      "File \u001b[0;32m~/anaconda3/lib/python3.11/site-packages/sklearn/linear_model/_base.py:429\u001b[0m, in \u001b[0;36mLinearClassifierMixin.decision_function\u001b[0;34m(self, X)\u001b[0m\n\u001b[1;32m    410\u001b[0m \u001b[38;5;28;01mdef\u001b[39;00m \u001b[38;5;21mdecision_function\u001b[39m(\u001b[38;5;28mself\u001b[39m, X):\n\u001b[1;32m    411\u001b[0m \u001b[38;5;250m    \u001b[39m\u001b[38;5;124;03m\"\"\"\u001b[39;00m\n\u001b[1;32m    412\u001b[0m \u001b[38;5;124;03m    Predict confidence scores for samples.\u001b[39;00m\n\u001b[1;32m    413\u001b[0m \n\u001b[0;32m   (...)\u001b[0m\n\u001b[1;32m    427\u001b[0m \u001b[38;5;124;03m        this class would be predicted.\u001b[39;00m\n\u001b[1;32m    428\u001b[0m \u001b[38;5;124;03m    \"\"\"\u001b[39;00m\n\u001b[0;32m--> 429\u001b[0m     check_is_fitted(\u001b[38;5;28mself\u001b[39m)\n\u001b[1;32m    430\u001b[0m     xp, _ \u001b[38;5;241m=\u001b[39m get_namespace(X)\n\u001b[1;32m    432\u001b[0m     X \u001b[38;5;241m=\u001b[39m \u001b[38;5;28mself\u001b[39m\u001b[38;5;241m.\u001b[39m_validate_data(X, accept_sparse\u001b[38;5;241m=\u001b[39m\u001b[38;5;124m\"\u001b[39m\u001b[38;5;124mcsr\u001b[39m\u001b[38;5;124m\"\u001b[39m, reset\u001b[38;5;241m=\u001b[39m\u001b[38;5;28;01mFalse\u001b[39;00m)\n",
      "File \u001b[0;32m~/anaconda3/lib/python3.11/site-packages/sklearn/utils/validation.py:1462\u001b[0m, in \u001b[0;36mcheck_is_fitted\u001b[0;34m(estimator, attributes, msg, all_or_any)\u001b[0m\n\u001b[1;32m   1459\u001b[0m     \u001b[38;5;28;01mraise\u001b[39;00m \u001b[38;5;167;01mTypeError\u001b[39;00m(\u001b[38;5;124m\"\u001b[39m\u001b[38;5;132;01m%s\u001b[39;00m\u001b[38;5;124m is not an estimator instance.\u001b[39m\u001b[38;5;124m\"\u001b[39m \u001b[38;5;241m%\u001b[39m (estimator))\n\u001b[1;32m   1461\u001b[0m \u001b[38;5;28;01mif\u001b[39;00m \u001b[38;5;129;01mnot\u001b[39;00m _is_fitted(estimator, attributes, all_or_any):\n\u001b[0;32m-> 1462\u001b[0m     \u001b[38;5;28;01mraise\u001b[39;00m NotFittedError(msg \u001b[38;5;241m%\u001b[39m {\u001b[38;5;124m\"\u001b[39m\u001b[38;5;124mname\u001b[39m\u001b[38;5;124m\"\u001b[39m: \u001b[38;5;28mtype\u001b[39m(estimator)\u001b[38;5;241m.\u001b[39m\u001b[38;5;18m__name__\u001b[39m})\n",
      "\u001b[0;31mNotFittedError\u001b[0m: This LogisticRegression instance is not fitted yet. Call 'fit' with appropriate arguments before using this estimator."
     ]
    }
   ],
   "source": [
    "from sklearn.metrics import roc_auc_score\n",
    "\n",
    "# Predict the transformed test documents\n",
    "predictions = model.predict(review1.transform(X_test))\n",
    "y_proba = model.predict_proba(review1.transform(X_test))\n",
    "                              \n",
    "print('AUC: ', roc_auc_score(y_test, y_proba[:,1]))"
   ]
  },
  {
   "cell_type": "markdown",
   "id": "140ba8c4",
   "metadata": {},
   "source": [
    "# TFidf"
   ]
  },
  {
   "cell_type": "code",
   "execution_count": 136,
   "id": "d843882c",
   "metadata": {},
   "outputs": [],
   "source": [
    "from sklearn.feature_extraction.text import TfidfVectorizer #we need this vectoriser\n",
    "\n",
    "docs = np.array([\n",
    "    'The ramen is delicious',\n",
    "    'The ramen is sweet',\n",
    "    'The ramen is spicy and the taste is good'])\n",
    "\n",
    "vect2 = TfidfVectorizer().fit(docs)\n",
    "bag2 = vect2.transform(docs)"
   ]
  },
  {
   "cell_type": "code",
   "execution_count": 137,
   "id": "b6fac384",
   "metadata": {},
   "outputs": [],
   "source": [
    "from sklearn.feature_extraction.text import TfidfVectorizer\n",
    "\n",
    "# Fit the TfidfVectorizer to the training data \n",
    "review2 = TfidfVectorizer(min_df=5).fit(X_train) #raw unique tokens # the min_dif is "
   ]
  },
  {
   "cell_type": "code",
   "execution_count": 138,
   "id": "65b3eb33",
   "metadata": {},
   "outputs": [
    {
     "data": {
      "text/plain": [
       "245"
      ]
     },
     "execution_count": 138,
     "metadata": {},
     "output_type": "execute_result"
    }
   ],
   "source": [
    "len(review2.get_feature_names_out())"
   ]
  },
  {
   "cell_type": "code",
   "execution_count": 139,
   "id": "86e28f2c",
   "metadata": {},
   "outputs": [
    {
     "name": "stdout",
     "output_type": "stream",
     "text": [
      "AUC:  0.6465571021951885\n"
     ]
    }
   ],
   "source": [
    "X_train_vectorized2 = review2.transform(X_train) #unique tokens in vector format\n",
    "\n",
    "model = LogisticRegression()\n",
    "model.fit(X_train_vectorized2, y_train)\n",
    "\n",
    "predictions = model.predict(review2.transform(X_test))\n",
    "y_proba = model.predict_proba(review2.transform(X_test))\n",
    "                              \n",
    "print('AUC: ', roc_auc_score(y_test, y_proba[:,1])) "
   ]
  },
  {
   "cell_type": "markdown",
   "id": "b18dcec2",
   "metadata": {},
   "source": [
    "# n grams"
   ]
  },
  {
   "cell_type": "code",
   "execution_count": 140,
   "id": "0970cd7d",
   "metadata": {},
   "outputs": [],
   "source": [
    "# Try 2-gram representation\n",
    "\n",
    "docs = np.array([\n",
    "    'The ramen is delicious',\n",
    "    'The ramen is sweet',\n",
    "    'The ramen is spicy and the taste is good'])\n",
    "\n",
    "vect3=CountVectorizer(ngram_range=(1,2)).fit(docs)\n",
    "bag3=vect3.transform(docs)"
   ]
  },
  {
   "cell_type": "code",
   "execution_count": 141,
   "id": "70a0e475",
   "metadata": {},
   "outputs": [
    {
     "data": {
      "text/plain": [
       "{'the': 16,\n",
       " 'ramen': 9,\n",
       " 'is': 4,\n",
       " 'delicious': 2,\n",
       " 'the ramen': 17,\n",
       " 'ramen is': 10,\n",
       " 'is delicious': 5,\n",
       " 'sweet': 13,\n",
       " 'is sweet': 8,\n",
       " 'spicy': 11,\n",
       " 'and': 0,\n",
       " 'taste': 14,\n",
       " 'good': 3,\n",
       " 'is spicy': 7,\n",
       " 'spicy and': 12,\n",
       " 'and the': 1,\n",
       " 'the taste': 18,\n",
       " 'taste is': 15,\n",
       " 'is good': 6}"
      ]
     },
     "execution_count": 141,
     "metadata": {},
     "output_type": "execute_result"
    }
   ],
   "source": [
    "vect3.vocabulary_"
   ]
  },
  {
   "cell_type": "code",
   "execution_count": 142,
   "id": "8b91fbbc",
   "metadata": {},
   "outputs": [],
   "source": [
    "review3 = CountVectorizer(min_df=5, ngram_range=(1,2)).fit(X_train) #raw unique tokens\n",
    "\n",
    "X_train_vectorized3 = review3.transform(X_train) #vectorized unique tokens"
   ]
  },
  {
   "cell_type": "code",
   "execution_count": 143,
   "id": "a38cdc67",
   "metadata": {},
   "outputs": [
    {
     "data": {
      "text/plain": [
       "451"
      ]
     },
     "execution_count": 143,
     "metadata": {},
     "output_type": "execute_result"
    }
   ],
   "source": [
    "len(review3.get_feature_names_out())"
   ]
  },
  {
   "cell_type": "code",
   "execution_count": 144,
   "id": "ced034ce",
   "metadata": {},
   "outputs": [
    {
     "name": "stdout",
     "output_type": "stream",
     "text": [
      "AUC:  0.6456408156899442\n"
     ]
    }
   ],
   "source": [
    "model = LogisticRegression()\n",
    "model.fit(X_train_vectorized3, y_train)\n",
    "\n",
    "predictions = model.predict(review3.transform(X_test))\n",
    "y_proba = model.predict_proba(review3.transform(X_test))\n",
    "                              \n",
    "print('AUC: ', roc_auc_score(y_test, y_proba[:,1])) "
   ]
  },
  {
   "cell_type": "code",
   "execution_count": 147,
   "id": "15bf6320",
   "metadata": {},
   "outputs": [
    {
     "name": "stdout",
     "output_type": "stream",
     "text": [
      "Smallest Coefs:\n",
      "['noodles in' 'mushroom' 'desse' 'vegan' 'teriyaki' 'sweet' 'soup chicken'\n",
      " 'thread' 'satay' 'seaweed']\n",
      "\n",
      " Largest Coefs:\n",
      "['tonkotsu' 'goreng' 'flavor ramen' 'good' 'soup flavored' 'style instant'\n",
      " 'udon' 'men' 'chicken soup' 'garlic']\n"
     ]
    }
   ],
   "source": [
    "feature_names_out = np.array(review3.get_feature_names_out())\n",
    "\n",
    "sorted_coef_index = model.coef_[0].argsort()\n",
    "\n",
    "print('Smallest Coefs:' )\n",
    "print(feature_names_out[sorted_coef_index[:10]])\n",
    "      \n",
    "print('\\n Largest Coefs:')      \n",
    "print(feature_names_out[sorted_coef_index[:-11:-1]])"
   ]
  },
  {
   "cell_type": "code",
   "execution_count": 148,
   "id": "6164a334",
   "metadata": {},
   "outputs": [
    {
     "name": "stdout",
     "output_type": "stream",
     "text": [
      "[1 1]\n"
     ]
    }
   ],
   "source": [
    "print(model.predict(review3.transform(['okay, noodles is nice',\n",
    "                                    'quick, good service'])))"
   ]
  },
  {
   "cell_type": "code",
   "execution_count": 149,
   "id": "43765dd3",
   "metadata": {},
   "outputs": [
    {
     "data": {
      "image/png": "[encoded data removed]",
      "text/plain": [
       "<Figure size 800x600 with 1 Axes>"
      ]
     },
     "metadata": {},
     "output_type": "display_data"
    }
   ],
   "source": [
    "import matplotlib.pyplot as plt\n",
    "from sklearn.metrics import roc_auc_score\n",
    "from sklearn.linear_model import LogisticRegression\n",
    "\n",
    "# Initialize lists to store AUC values and model names\n",
    "auc_values = []\n",
    "model_names = []\n",
    "\n",
    "# Model 1 (review2)\n",
    "X_train_vectorized2 = review2.transform(X_train)\n",
    "model1 = LogisticRegression()\n",
    "model1.fit(X_train_vectorized2, y_train)\n",
    "y_proba1 = model1.predict_proba(review2.transform(X_test))\n",
    "auc1 = roc_auc_score(y_test, y_proba1[:, 1])\n",
    "auc_values.append(auc1)\n",
    "model_names.append(\"Model 1 (review2)\")\n",
    "\n",
    "# Model 2 (review3)\n",
    "X_train_vectorized3 = review3.transform(X_train)\n",
    "model2 = LogisticRegression()\n",
    "model2.fit(X_train_vectorized3, y_train)\n",
    "y_proba2 = model2.predict_proba(review3.transform(X_test))\n",
    "auc2 = roc_auc_score(y_test, y_proba2[:, 1])\n",
    "auc_values.append(auc2)\n",
    "model_names.append(\"Model 2 (review3)\")\n",
    "\n",
    "# Create a bar plot\n",
    "plt.figure(figsize=(8, 6))\n",
    "plt.bar(model_names, auc_values)\n",
    "plt.xlabel(\"Models\")\n",
    "plt.ylabel(\"AUC\")\n",
    "plt.title(\"AUC for Different Models\")\n",
    "plt.xticks(rotation=15)  # Rotate x-axis labels for better readability\n",
    "plt.tight_layout()\n",
    "\n",
    "# Display the bar plot\n",
    "plt.show()\n"
   ]
  },
  {
   "cell_type": "code",
   "execution_count": 150,
   "id": "038ab0fe",
   "metadata": {},
   "outputs": [
    {
     "data": {
      "image/png": "[encoded data removed]",
      "text/plain": [
       "<Figure size 800x600 with 1 Axes>"
      ]
     },
     "metadata": {},
     "output_type": "display_data"
    }
   ],
   "source": [
    "import matplotlib.pyplot as plt\n",
    "from sklearn.metrics import roc_auc_score\n",
    "from sklearn.linear_model import LogisticRegression\n",
    "\n",
    "# Initialize lists to store AUC values and model names\n",
    "auc_values = []\n",
    "model_names = []\n",
    "\n",
    "# Model 1 (review2)\n",
    "X_train_vectorized2 = review2.transform(X_train)\n",
    "model1 = LogisticRegression()\n",
    "model1.fit(X_train_vectorized2, y_train)\n",
    "y_proba1 = model1.predict_proba(review2.transform(X_test))\n",
    "auc1 = roc_auc_score(y_test, y_proba1[:, 1])\n",
    "auc_values.append(auc1)\n",
    "model_names.append(\"Model 1 (review2)\")\n",
    "\n",
    "# Model 2 (review3)\n",
    "X_train_vectorized3 = review3.transform(X_train)\n",
    "model2 = LogisticRegression()\n",
    "model2.fit(X_train_vectorized3, y_train)\n",
    "y_proba2 = model2.predict_proba(review3.transform(X_test))\n",
    "auc2 = roc_auc_score(y_test, y_proba2[:, 1])\n",
    "auc_values.append(auc2)\n",
    "model_names.append(\"Model 2 (review3)\")\n",
    "\n",
    "# Create a bar plot\n",
    "plt.figure(figsize=(8, 6))\n",
    "bars = plt.bar(model_names, auc_values)\n",
    "plt.xlabel(\"Models\")\n",
    "plt.ylabel(\"AUC\")\n",
    "plt.title(\"AUC for Different Models\")\n",
    "plt.xticks(rotation=15)  # Rotate x-axis labels for better readability\n",
    "\n",
    "# Display data figures on top of the bars\n",
    "for bar, auc in zip(bars, auc_values):\n",
    "    plt.text(bar.get_x() + bar.get_width() / 2 - 0.05, auc + 0.01, f\"{auc:.2f}\", fontsize=10)\n",
    "\n",
    "plt.tight_layout()\n",
    "\n",
    "# Show the bar plot\n",
    "plt.show()\n",
    "\n"
   ]
  },
  {
   "cell_type": "code",
   "execution_count": null,
   "id": "564165d6",
   "metadata": {},
   "outputs": [],
   "source": []
  }
 ],
 "metadata": {
  "kernelspec": {
   "display_name": "Python 3 (ipykernel)",
   "language": "python",
   "name": "python3"
  },
  "language_info": {
   "codemirror_mode": {
    "name": "ipython",
    "version": 3
   },
   "file_extension": ".py",
   "mimetype": "text/x-python",
   "name": "python",
   "nbconvert_exporter": "python",
   "pygments_lexer": "ipython3",
   "version": "3.11.5"
  }
 },
 "nbformat": 4,
 "nbformat_minor": 5
}
